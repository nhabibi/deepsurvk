{
 "cells": [
  {
   "cell_type": "code",
   "execution_count": 5,
   "metadata": {},
   "outputs": [
    {
     "name": "stdout",
     "output_type": "stream",
     "text": [
      "Collecting tensorflow\n",
      "  Using cached tensorflow-2.19.0-cp39-cp39-macosx_12_0_arm64.whl (252.5 MB)\n",
      "Requirement already satisfied: numpy in /Users/Narges/Desktop/Career/_SA/deepsurvk/venv1/lib/python3.9/site-packages (2.0.2)\n",
      "Collecting scikit-learn\n",
      "  Downloading scikit_learn-1.6.1-cp39-cp39-macosx_12_0_arm64.whl (11.1 MB)\n",
      "\u001b[K     |████████████████████████████████| 11.1 MB 79 kB/s eta 0:00:012\n",
      "\u001b[?25hCollecting lifelines\n",
      "  Downloading lifelines-0.30.0-py3-none-any.whl (349 kB)\n",
      "\u001b[K     |████████████████████████████████| 349 kB 706 kB/s eta 0:00:01\n",
      "\u001b[?25hCollecting h5py\n",
      "  Downloading h5py-3.13.0-cp39-cp39-macosx_11_0_arm64.whl (2.9 MB)\n",
      "\u001b[K     |████████████████████████████████| 2.9 MB 344 kB/s eta 0:00:01\n",
      "\u001b[?25hCollecting libclang>=13.0.0\n",
      "  Downloading libclang-18.1.1-1-py2.py3-none-macosx_11_0_arm64.whl (25.8 MB)\n",
      "\u001b[K     |████████████████████████████████| 25.8 MB 103 kB/s eta 0:00:01\n",
      "\u001b[?25hCollecting keras>=3.5.0\n",
      "  Downloading keras-3.9.2-py3-none-any.whl (1.3 MB)\n",
      "\u001b[K     |████████████████████████████████| 1.3 MB 612 kB/s eta 0:00:01\n",
      "\u001b[?25hCollecting opt-einsum>=2.3.2\n",
      "  Downloading opt_einsum-3.4.0-py3-none-any.whl (71 kB)\n",
      "\u001b[K     |████████████████████████████████| 71 kB 397 kB/s eta 0:00:01\n",
      "\u001b[?25hCollecting tensorboard~=2.19.0\n",
      "  Downloading tensorboard-2.19.0-py3-none-any.whl (5.5 MB)\n",
      "\u001b[K     |████████████████████████████████| 5.5 MB 67 kB/s eta 0:00:011\n",
      "\u001b[?25hRequirement already satisfied: setuptools in /Users/Narges/Desktop/Career/_SA/deepsurvk/venv1/lib/python3.9/site-packages (from tensorflow) (58.0.4)\n",
      "Collecting tensorflow-io-gcs-filesystem>=0.23.1\n",
      "  Downloading tensorflow_io_gcs_filesystem-0.37.1-cp39-cp39-macosx_12_0_arm64.whl (3.5 MB)\n",
      "\u001b[K     |████████████████████████████████| 3.5 MB 294 kB/s eta 0:00:01\n",
      "\u001b[?25hCollecting astunparse>=1.6.0\n",
      "  Downloading astunparse-1.6.3-py2.py3-none-any.whl (12 kB)\n",
      "Collecting gast!=0.5.0,!=0.5.1,!=0.5.2,>=0.2.1\n",
      "  Downloading gast-0.6.0-py3-none-any.whl (21 kB)\n",
      "Collecting flatbuffers>=24.3.25\n",
      "  Downloading flatbuffers-25.2.10-py2.py3-none-any.whl (30 kB)\n",
      "Requirement already satisfied: packaging in /Users/Narges/Desktop/Career/_SA/deepsurvk/venv1/lib/python3.9/site-packages (from tensorflow) (24.2)\n",
      "Collecting protobuf!=4.21.0,!=4.21.1,!=4.21.2,!=4.21.3,!=4.21.4,!=4.21.5,<6.0.0dev,>=3.20.3\n",
      "  Downloading protobuf-5.29.4-cp38-abi3-macosx_10_9_universal2.whl (417 kB)\n",
      "\u001b[K     |████████████████████████████████| 417 kB 522 kB/s eta 0:00:01\n",
      "\u001b[?25hCollecting ml-dtypes<1.0.0,>=0.5.1\n",
      "  Downloading ml_dtypes-0.5.1-cp39-cp39-macosx_10_9_universal2.whl (667 kB)\n",
      "\u001b[K     |████████████████████████████████| 667 kB 573 kB/s eta 0:00:01\n",
      "\u001b[?25hCollecting grpcio<2.0,>=1.24.3\n",
      "\u001b[33m  WARNING: Retrying (Retry(total=4, connect=None, read=None, redirect=None, status=None)) after connection broken by 'ReadTimeoutError(\"HTTPSConnectionPool(host='files.pythonhosted.org', port=443): Read timed out. (read timeout=15)\")': /packages/f6/5e/4970fb231e57aad8f41682292343551f58fec5c7a07e261294def3cb8bb6/grpcio-1.71.0-cp39-cp39-macosx_10_14_universal2.whl\u001b[0m\n",
      "  Downloading grpcio-1.71.0-cp39-cp39-macosx_10_14_universal2.whl (11.3 MB)\n",
      "\u001b[K     |████████████████████████████████| 11.3 MB 471 kB/s eta 0:00:01\n",
      "\u001b[?25hCollecting google-pasta>=0.1.1\n",
      "  Downloading google_pasta-0.2.0-py3-none-any.whl (57 kB)\n",
      "\u001b[K     |████████████████████████████████| 57 kB 480 kB/s eta 0:00:01\n",
      "\u001b[?25hRequirement already satisfied: six>=1.12.0 in /Users/Narges/Desktop/Career/_SA/deepsurvk/venv1/lib/python3.9/site-packages (from tensorflow) (1.17.0)\n",
      "Requirement already satisfied: requests<3,>=2.21.0 in /Users/Narges/Desktop/Career/_SA/deepsurvk/venv1/lib/python3.9/site-packages (from tensorflow) (2.32.3)\n",
      "Collecting absl-py>=1.0.0\n",
      "  Downloading absl_py-2.2.2-py3-none-any.whl (135 kB)\n",
      "\u001b[K     |████████████████████████████████| 135 kB 612 kB/s eta 0:00:01\n",
      "\u001b[?25hCollecting termcolor>=1.1.0\n",
      "  Downloading termcolor-3.0.1-py3-none-any.whl (7.2 kB)\n",
      "Collecting wrapt>=1.11.0\n",
      "  Using cached wrapt-1.17.2-cp39-cp39-macosx_11_0_arm64.whl (38 kB)\n",
      "Requirement already satisfied: typing-extensions>=3.6.6 in /Users/Narges/Desktop/Career/_SA/deepsurvk/venv1/lib/python3.9/site-packages (from tensorflow) (4.13.2)\n",
      "Collecting scipy>=1.6.0\n",
      "  Downloading scipy-1.13.1-cp39-cp39-macosx_12_0_arm64.whl (30.3 MB)\n",
      "\u001b[K     |████████████████████████████████| 30.3 MB 294 kB/s eta 0:00:01     |██████████████▏                 | 13.4 MB 421 kB/s eta 0:00:41\n",
      "\u001b[?25hCollecting joblib>=1.2.0\n",
      "  Using cached joblib-1.4.2-py3-none-any.whl (301 kB)\n",
      "Collecting threadpoolctl>=3.1.0\n",
      "  Downloading threadpoolctl-3.6.0-py3-none-any.whl (18 kB)\n",
      "Collecting autograd-gamma>=0.3\n",
      "  Using cached autograd_gamma-0.5.0-py3-none-any.whl\n",
      "Collecting matplotlib>=3.0\n",
      "  Downloading matplotlib-3.9.4-cp39-cp39-macosx_11_0_arm64.whl (7.8 MB)\n",
      "\u001b[K     |████████████████████████████████| 7.8 MB 575 kB/s eta 0:00:01\n",
      "\u001b[?25hCollecting pandas>=2.1\n",
      "  Using cached pandas-2.2.3-cp39-cp39-macosx_11_0_arm64.whl (11.3 MB)\n",
      "Collecting autograd>=1.5\n",
      "  Downloading autograd-1.7.0-py3-none-any.whl (52 kB)\n",
      "\u001b[K     |████████████████████████████████| 52 kB 498 kB/s eta 0:00:01\n",
      "\u001b[?25hCollecting formulaic>=0.2.2\n",
      "  Downloading formulaic-1.1.1-py3-none-any.whl (115 kB)\n",
      "\u001b[K     |████████████████████████████████| 115 kB 721 kB/s eta 0:00:01\n",
      "\u001b[?25hCollecting wheel<1.0,>=0.23.0\n",
      "  Using cached wheel-0.45.1-py3-none-any.whl (72 kB)\n",
      "Collecting interface-meta>=1.2.0\n",
      "  Downloading interface_meta-1.3.0-py3-none-any.whl (14 kB)\n",
      "Collecting optree\n",
      "  Downloading optree-0.15.0-cp39-cp39-macosx_11_0_arm64.whl (329 kB)\n",
      "\u001b[K     |████████████████████████████████| 329 kB 668 kB/s eta 0:00:01\n",
      "\u001b[?25hCollecting namex\n",
      "  Downloading namex-0.0.8-py3-none-any.whl (5.8 kB)\n",
      "Collecting rich\n",
      "  Downloading rich-14.0.0-py3-none-any.whl (243 kB)\n",
      "\u001b[K     |████████████████████████████████| 243 kB 491 kB/s eta 0:00:01\n",
      "\u001b[?25hRequirement already satisfied: python-dateutil>=2.7 in /Users/Narges/Desktop/Career/_SA/deepsurvk/venv1/lib/python3.9/site-packages (from matplotlib>=3.0->lifelines) (2.9.0.post0)\n",
      "Collecting pillow>=8\n",
      "  Using cached pillow-11.1.0-cp39-cp39-macosx_11_0_arm64.whl (3.1 MB)\n",
      "Collecting contourpy>=1.0.1\n",
      "  Downloading contourpy-1.3.0-cp39-cp39-macosx_11_0_arm64.whl (249 kB)\n",
      "\u001b[K     |████████████████████████████████| 249 kB 518 kB/s eta 0:00:01\n",
      "\u001b[?25hCollecting cycler>=0.10\n",
      "  Downloading cycler-0.12.1-py3-none-any.whl (8.3 kB)\n",
      "Collecting fonttools>=4.22.0\n",
      "  Downloading fonttools-4.57.0-cp39-cp39-macosx_10_9_universal2.whl (2.8 MB)\n",
      "\u001b[K     |████████████████████████████████| 2.8 MB 431 kB/s ta 0:00:012\n",
      "\u001b[?25hCollecting kiwisolver>=1.3.1\n",
      "  Downloading kiwisolver-1.4.7-cp39-cp39-macosx_11_0_arm64.whl (64 kB)\n",
      "\u001b[K     |████████████████████████████████| 64 kB 39 kB/s eta 0:00:017\n",
      "\u001b[?25hCollecting importlib-resources>=3.2.0\n",
      "  Downloading importlib_resources-6.5.2-py3-none-any.whl (37 kB)\n",
      "Collecting pyparsing>=2.3.1\n",
      "  Downloading pyparsing-3.2.3-py3-none-any.whl (111 kB)\n",
      "\u001b[K     |████████████████████████████████| 111 kB 103 kB/s eta 0:00:01\n",
      "\u001b[?25hRequirement already satisfied: zipp>=3.1.0 in /Users/Narges/Desktop/Career/_SA/deepsurvk/venv1/lib/python3.9/site-packages (from importlib-resources>=3.2.0->matplotlib>=3.0->lifelines) (3.21.0)\n",
      "Collecting tzdata>=2022.7\n",
      "  Downloading tzdata-2025.2-py2.py3-none-any.whl (347 kB)\n",
      "\u001b[K     |████████████████████████████████| 347 kB 105 kB/s eta 0:00:01\n",
      "\u001b[?25hCollecting pytz>=2020.1\n",
      "  Downloading pytz-2025.2-py2.py3-none-any.whl (509 kB)\n",
      "\u001b[K     |████████████████████████████████| 509 kB 202 kB/s eta 0:00:01\n",
      "\u001b[?25hRequirement already satisfied: idna<4,>=2.5 in /Users/Narges/Desktop/Career/_SA/deepsurvk/venv1/lib/python3.9/site-packages (from requests<3,>=2.21.0->tensorflow) (3.10)\n",
      "Requirement already satisfied: charset-normalizer<4,>=2 in /Users/Narges/Desktop/Career/_SA/deepsurvk/venv1/lib/python3.9/site-packages (from requests<3,>=2.21.0->tensorflow) (3.4.1)\n",
      "Requirement already satisfied: certifi>=2017.4.17 in /Users/Narges/Desktop/Career/_SA/deepsurvk/venv1/lib/python3.9/site-packages (from requests<3,>=2.21.0->tensorflow) (2025.1.31)\n",
      "Requirement already satisfied: urllib3<3,>=1.21.1 in /Users/Narges/Desktop/Career/_SA/deepsurvk/venv1/lib/python3.9/site-packages (from requests<3,>=2.21.0->tensorflow) (2.4.0)\n",
      "Collecting markdown>=2.6.8\n",
      "  Downloading markdown-3.8-py3-none-any.whl (106 kB)\n",
      "\u001b[K     |████████████████████████████████| 106 kB 199 kB/s eta 0:00:01\n",
      "\u001b[?25hCollecting werkzeug>=1.0.1\n",
      "  Downloading werkzeug-3.1.3-py3-none-any.whl (224 kB)\n",
      "\u001b[K     |████████████████████████████████| 224 kB 204 kB/s eta 0:00:01\n",
      "\u001b[?25hCollecting tensorboard-data-server<0.8.0,>=0.7.0\n",
      "  Downloading tensorboard_data_server-0.7.2-py3-none-any.whl (2.4 kB)\n",
      "Requirement already satisfied: importlib-metadata>=4.4 in /Users/Narges/Desktop/Career/_SA/deepsurvk/venv1/lib/python3.9/site-packages (from markdown>=2.6.8->tensorboard~=2.19.0->tensorflow) (8.6.1)\n",
      "Requirement already satisfied: MarkupSafe>=2.1.1 in /Users/Narges/Desktop/Career/_SA/deepsurvk/venv1/lib/python3.9/site-packages (from werkzeug>=1.0.1->tensorboard~=2.19.0->tensorflow) (3.0.2)\n",
      "Requirement already satisfied: pygments<3.0.0,>=2.13.0 in /Users/Narges/Desktop/Career/_SA/deepsurvk/venv1/lib/python3.9/site-packages (from rich->keras>=3.5.0->tensorflow) (2.19.1)\n",
      "Collecting markdown-it-py>=2.2.0\n",
      "  Downloading markdown_it_py-3.0.0-py3-none-any.whl (87 kB)\n",
      "\u001b[K     |████████████████████████████████| 87 kB 238 kB/s eta 0:00:01\n",
      "\u001b[?25hCollecting mdurl~=0.1\n",
      "  Downloading mdurl-0.1.2-py3-none-any.whl (10.0 kB)\n",
      "Installing collected packages: mdurl, tzdata, pytz, markdown-it-py, wrapt, wheel, werkzeug, tensorboard-data-server, scipy, rich, pyparsing, protobuf, pillow, pandas, optree, namex, ml-dtypes, markdown, kiwisolver, interface-meta, importlib-resources, h5py, grpcio, fonttools, cycler, contourpy, autograd, absl-py, threadpoolctl, termcolor, tensorflow-io-gcs-filesystem, tensorboard, opt-einsum, matplotlib, libclang, keras, joblib, google-pasta, gast, formulaic, flatbuffers, autograd-gamma, astunparse, tensorflow, scikit-learn, lifelines\n",
      "Successfully installed absl-py-2.2.2 astunparse-1.6.3 autograd-1.7.0 autograd-gamma-0.5.0 contourpy-1.3.0 cycler-0.12.1 flatbuffers-25.2.10 fonttools-4.57.0 formulaic-1.1.1 gast-0.6.0 google-pasta-0.2.0 grpcio-1.71.0 h5py-3.13.0 importlib-resources-6.5.2 interface-meta-1.3.0 joblib-1.4.2 keras-3.9.2 kiwisolver-1.4.7 libclang-18.1.1 lifelines-0.30.0 markdown-3.8 markdown-it-py-3.0.0 matplotlib-3.9.4 mdurl-0.1.2 ml-dtypes-0.5.1 namex-0.0.8 opt-einsum-3.4.0 optree-0.15.0 pandas-2.2.3 pillow-11.1.0 protobuf-5.29.4 pyparsing-3.2.3 pytz-2025.2 rich-14.0.0 scikit-learn-1.6.1 scipy-1.13.1 tensorboard-2.19.0 tensorboard-data-server-0.7.2 tensorflow-2.19.0 tensorflow-io-gcs-filesystem-0.37.1 termcolor-3.0.1 threadpoolctl-3.6.0 tzdata-2025.2 werkzeug-3.1.3 wheel-0.45.1 wrapt-1.17.2\n",
      "\u001b[33mWARNING: You are using pip version 21.2.4; however, version 25.0.1 is available.\n",
      "You should consider upgrading via the '/Users/Narges/Desktop/Career/_SA/deepsurvk/venv1/bin/python3 -m pip install --upgrade pip' command.\u001b[0m\n"
     ]
    }
   ],
   "source": [
    "#cd /path/to/deepsurvk\n",
    "#python3 -m venv venv1\n",
    "#source venv1/bin/activate\n",
    "\n",
    "#pip3 install jupyter ipykernel\n",
    "#python3 -m ipykernel install --user --name=venv1 --display-name=\"Python (venv1)\"\n",
    "\n",
    "!pip3 install tensorflow numpy scikit-learn lifelines h5py"
   ]
  },
  {
   "cell_type": "markdown",
   "metadata": {},
   "source": [
    "\n",
    "# 00 - Understanding DeepSurv (using Keras)\n",
    "Before anything else, it makes sense to spend some time in understanding\n",
    "how the original DeepSurv works. In this notebook, we take an example dataset\n",
    "and go step by step through the algorithm. Please note that the code \n",
    "here was written with clarity over performance in mind.\n",
    "\n",
    "## Preliminaries\n",
    "\n",
    "Import packages"
   ]
  },
  {
   "cell_type": "code",
   "execution_count": 1,
   "metadata": {
    "lines_to_next_cell": 2
   },
   "outputs": [
    {
     "name": "stderr",
     "output_type": "stream",
     "text": [
      "/Users/Narges/Desktop/Career/_SA/deepsurvk/venv1/lib/python3.9/site-packages/urllib3/__init__.py:35: NotOpenSSLWarning: urllib3 v2 only supports OpenSSL 1.1.1+, currently the 'ssl' module is compiled with 'LibreSSL 2.8.3'. See: https://github.com/urllib3/urllib3/issues/3020\n",
      "  warnings.warn(\n"
     ]
    }
   ],
   "source": [
    "import pathlib\n",
    "import numpy as np\n",
    "\n",
    "import tensorflow as tf\n",
    "from tensorflow.keras.models import Sequential, load_model\n",
    "from tensorflow.keras.layers import Dense, Dropout, ActivityRegularization\n",
    "from tensorflow.keras.optimizers import Nadam\n",
    "from tensorflow.keras.regularizers import l2\n",
    "\n",
    "from lifelines import utils\n",
    "from sklearn.preprocessing import StandardScaler\n",
    "from matplotlib import pyplot as plt\n",
    "import h5py"
   ]
  },
  {
   "cell_type": "markdown",
   "metadata": {},
   "source": [
    "Define paths."
   ]
  },
  {
   "cell_type": "code",
   "execution_count": 2,
   "metadata": {},
   "outputs": [],
   "source": [
    "example_file = '00_understanding_deepsurv'\n",
    "PATH_DATA = pathlib.Path(r'../deepsurvk/datasets/data')\n",
    "PATH_MODELS = pathlib.Path('./models/')\n",
    "\n",
    "# Make sure data directory exists.\n",
    "if not PATH_DATA.exists():\n",
    "    raise ValueError(f\"The directory {PATH_DATA} does not exist.\")\n",
    "\n",
    "# If models directory does not exist, create it.\n",
    "if not PATH_MODELS.exists():\n",
    "    print(\"Creating models directory in \" + str(PATH_MODELS) + \"...\\t\", end=\"\", flush=True)\n",
    "    PATH_MODELS.mkdir(parents=True)\n",
    "    print(\"DONE!\")\n",
    "    \n"
   ]
  },
  {
   "cell_type": "markdown",
   "metadata": {},
   "source": [
    "## Get data\n",
    "In this case, we will use the Worcester Heart Attack Study (WHAS) dataset.\n",
    "For a more detailed description about it, please see the corresponding\n",
    "[README](../data/README.md)."
   ]
  },
  {
   "cell_type": "code",
   "execution_count": 3,
   "metadata": {
    "lines_to_next_cell": 2
   },
   "outputs": [],
   "source": [
    "path_data_file = PATH_DATA/'whas.h5'\n",
    "\n",
    "# Read training data.\n",
    "with h5py.File(path_data_file, 'r') as f:\n",
    "    X_train = f['train']['x'][()]\n",
    "    E_train = f['train']['e'][()]\n",
    "    Y_train = f['train']['t'][()].reshape(-1, 1)\n",
    "\n",
    "\n",
    "# Read testing data.\n",
    "with h5py.File(path_data_file, 'r') as f:\n",
    "    X_test = f['test']['x'][()]\n",
    "    E_test = f['test']['e'][()]\n",
    "    Y_test = f['test']['t'][()].reshape(-1, 1)\n",
    "\n",
    "# Calculate important parameters.\n",
    "n_patients_train = X_train.shape[0]\n",
    "n_features = X_train.shape[1]"
   ]
  },
  {
   "cell_type": "markdown",
   "metadata": {},
   "source": [
    "## Pre-process data\n",
    "* Standardization <br>\n",
    "First, we need to standardize the input (p. 3).\n",
    "Notice how we only use training data for the standardization.\n",
    "This done to avoid leakage (using information from\n",
    "the testing partition for the model training.)"
   ]
  },
  {
   "cell_type": "code",
   "execution_count": 4,
   "metadata": {},
   "outputs": [],
   "source": [
    "X_scaler = StandardScaler().fit(X_train)\n",
    "X_train = X_scaler.transform(X_train)\n",
    "X_test = X_scaler.transform(X_test)\n",
    "\n",
    "Y_scaler = StandardScaler().fit(Y_train.reshape(-1, 1))\n",
    "Y_train = Y_scaler.transform(Y_train)\n",
    "Y_test = Y_scaler.transform(Y_test)\n",
    "\n",
    "Y_train = Y_train.flatten()\n",
    "Y_test = Y_test.flatten()"
   ]
  },
  {
   "cell_type": "markdown",
   "metadata": {},
   "source": [
    "* Sorting <br>\n",
    "This is important, since we are performing a ranking task."
   ]
  },
  {
   "cell_type": "code",
   "execution_count": 5,
   "metadata": {},
   "outputs": [],
   "source": [
    "sort_idx = np.argsort(Y_train)[::-1]\n",
    "X_train = X_train[sort_idx]\n",
    "Y_train = Y_train[sort_idx]\n",
    "E_train = E_train[sort_idx]"
   ]
  },
  {
   "cell_type": "markdown",
   "metadata": {},
   "source": [
    "## Define the loss function\n",
    "DeepSurv's loss function is the average negative log partial likelihood with\n",
    "regularization (Eq. 4, p. 3):\n",
    "   \n",
    "$$l_{\\theta} = -\\frac{1}{N_{E=1}} \\sum_{i:E_i=1} \\left( \\hat{h}_\\theta(x_i) -\\log \\sum_{j \\in {\\rm I\\!R}(T_i)} \\exp^{\\hat{h}_\\theta(x_j)} \\right) + \\lambda \\cdot \\Vert \\theta \\Vert_2^2 $$\n",
    "\n",
    "We can see that our loss function depends on three parameters:\n",
    "`y_true`, `y_pred`, *and* `E`. Unfortunately, custom loss functions in Keras\n",
    "[need to have their signature (i.e., prototype) as](https://keras.io/api/losses/#creating-custom-losses)\n",
    "`loss_fn(y_true, y_pred)`. To overcome this, we will use a [small trick](https://github.com/keras-team/keras/issues/2121)\n",
    "that is actually well known in the community. This way, we can define the \n",
    "negative log likelihood function as"
   ]
  },
  {
   "cell_type": "code",
   "execution_count": 8,
   "metadata": {},
   "outputs": [],
   "source": [
    "def negative_log_likelihood(E):\n",
    "    def loss(y_true, y_pred):\n",
    "        \n",
    "        hazard_ratio = tf.math.exp(y_pred)        \n",
    "        log_risk = tf.math.log(tf.math.cumsum(hazard_ratio))\n",
    "        uncensored_likelihood = tf.transpose(y_pred) - log_risk\n",
    "        censored_likelihood = uncensored_likelihood * E\n",
    "        neg_likelihood_ = -tf.math.reduce_sum(censored_likelihood)\n",
    "\n",
    "        # TODO\n",
    "        # For some reason, adding num_observed_events does not work.\n",
    "        # Therefore, for now we will use it as a simple factor of 1.\n",
    "        # Is it really needed? Isn't it just a scaling factor?\n",
    "        # num_observed_events = tf.math.cumsum(E)\n",
    "        # num_observed_events = tf.cast(num_observed_events, dtype=tf.float32)\n",
    "        num_observed_events = tf.constant(1, dtype=tf.float32)\n",
    "        \n",
    "        neg_likelihood = neg_likelihood_ / num_observed_events        \n",
    "        \n",
    "        return neg_likelihood\n",
    "    \n",
    "    return loss"
   ]
  },
  {
   "cell_type": "markdown",
   "metadata": {},
   "source": [
    "with regularization added further on (as part of the network architecture).\n",
    "\n",
    "## Define model parameters\n",
    "Nothing spectacular here. You can see these are pretty standard parameters.\n",
    "We will use the values reported in Table 2 (p. 10).\n",
    "\n",
    "If you decide to try a different dataset, be sure to change these\n",
    "accordingly!"
   ]
  },
  {
   "cell_type": "code",
   "execution_count": 9,
   "metadata": {
    "lines_to_next_cell": 2
   },
   "outputs": [],
   "source": [
    "activation = 'relu'\n",
    "n_nodes = 48\n",
    "learning_rate = 0.067\n",
    "l2_reg = 16.094\n",
    "dropout = 0.147\n",
    "lr_decay =  6.494e-4\n",
    "momentum = 0.863"
   ]
  },
  {
   "cell_type": "markdown",
   "metadata": {},
   "source": [
    "\n",
    "## Model construction\n",
    "Now we can build the model. We will do this using the `Sequential` \n",
    "constructor, thus adding layer by layer.\n",
    "\n",
    "The initialization of the nodes weights can be done in many different\n",
    "ways. In the original DeepSurv implementation, they used [Glorot\n",
    "with weights sampled from the uniform distribution](https://github.com/jaredleekatzman/DeepSurv/blob/198bb2375ea2d2cad93e568ffc550889366494ef/deepsurv/deep_surv.py#L78),\n",
    "as proposed by [Glorot and Bengio (2010)](http://proceedings.mlr.press/v9/glorot10a/glorot10a.pdf).\n",
    "Therefore, we will stick with that initialization as well.\n",
    "\n",
    "Notice that this architecture works for the sample dataset (WHAS).\n",
    "It is slightly different for each dataset (mainly the optimizer and \n",
    "number of hidden layers)."
   ]
  },
  {
   "cell_type": "code",
   "execution_count": 10,
   "metadata": {
    "lines_to_next_cell": 2
   },
   "outputs": [
    {
     "name": "stderr",
     "output_type": "stream",
     "text": [
      "/Users/Narges/Desktop/Career/_SA/deepsurvk/venv1/lib/python3.9/site-packages/keras/src/layers/core/dense.py:87: UserWarning: Do not pass an `input_shape`/`input_dim` argument to a layer. When using Sequential models, prefer using an `Input(shape)` object as the first layer in the model instead.\n",
      "  super().__init__(activity_regularizer=activity_regularizer, **kwargs)\n",
      "/Users/Narges/Desktop/Career/_SA/deepsurvk/venv1/lib/python3.9/site-packages/keras/src/optimizers/base_optimizer.py:86: UserWarning: Argument `decay` is no longer supported and will be ignored.\n",
      "  warnings.warn(\n"
     ]
    },
    {
     "data": {
      "text/html": [
       "<pre style=\"white-space:pre;overflow-x:auto;line-height:normal;font-family:Menlo,'DejaVu Sans Mono',consolas,'Courier New',monospace\"><span style=\"font-weight: bold\">Model: \"sequential\"</span>\n",
       "</pre>\n"
      ],
      "text/plain": [
       "\u001b[1mModel: \"sequential\"\u001b[0m\n"
      ]
     },
     "metadata": {},
     "output_type": "display_data"
    },
    {
     "data": {
      "text/html": [
       "<pre style=\"white-space:pre;overflow-x:auto;line-height:normal;font-family:Menlo,'DejaVu Sans Mono',consolas,'Courier New',monospace\">┏━━━━━━━━━━━━━━━━━━━━━━━━━━━━━━━━━┳━━━━━━━━━━━━━━━━━━━━━━━━┳━━━━━━━━━━━━━━━┓\n",
       "┃<span style=\"font-weight: bold\"> Layer (type)                    </span>┃<span style=\"font-weight: bold\"> Output Shape           </span>┃<span style=\"font-weight: bold\">       Param # </span>┃\n",
       "┡━━━━━━━━━━━━━━━━━━━━━━━━━━━━━━━━━╇━━━━━━━━━━━━━━━━━━━━━━━━╇━━━━━━━━━━━━━━━┩\n",
       "│ dense (<span style=\"color: #0087ff; text-decoration-color: #0087ff\">Dense</span>)                   │ (<span style=\"color: #00d7ff; text-decoration-color: #00d7ff\">None</span>, <span style=\"color: #00af00; text-decoration-color: #00af00\">6</span>)              │            <span style=\"color: #00af00; text-decoration-color: #00af00\">42</span> │\n",
       "├─────────────────────────────────┼────────────────────────┼───────────────┤\n",
       "│ dropout (<span style=\"color: #0087ff; text-decoration-color: #0087ff\">Dropout</span>)               │ (<span style=\"color: #00d7ff; text-decoration-color: #00d7ff\">None</span>, <span style=\"color: #00af00; text-decoration-color: #00af00\">6</span>)              │             <span style=\"color: #00af00; text-decoration-color: #00af00\">0</span> │\n",
       "├─────────────────────────────────┼────────────────────────┼───────────────┤\n",
       "│ dense_1 (<span style=\"color: #0087ff; text-decoration-color: #0087ff\">Dense</span>)                 │ (<span style=\"color: #00d7ff; text-decoration-color: #00d7ff\">None</span>, <span style=\"color: #00af00; text-decoration-color: #00af00\">48</span>)             │           <span style=\"color: #00af00; text-decoration-color: #00af00\">336</span> │\n",
       "├─────────────────────────────────┼────────────────────────┼───────────────┤\n",
       "│ dropout_1 (<span style=\"color: #0087ff; text-decoration-color: #0087ff\">Dropout</span>)             │ (<span style=\"color: #00d7ff; text-decoration-color: #00d7ff\">None</span>, <span style=\"color: #00af00; text-decoration-color: #00af00\">48</span>)             │             <span style=\"color: #00af00; text-decoration-color: #00af00\">0</span> │\n",
       "├─────────────────────────────────┼────────────────────────┼───────────────┤\n",
       "│ dense_2 (<span style=\"color: #0087ff; text-decoration-color: #0087ff\">Dense</span>)                 │ (<span style=\"color: #00d7ff; text-decoration-color: #00d7ff\">None</span>, <span style=\"color: #00af00; text-decoration-color: #00af00\">48</span>)             │         <span style=\"color: #00af00; text-decoration-color: #00af00\">2,352</span> │\n",
       "├─────────────────────────────────┼────────────────────────┼───────────────┤\n",
       "│ dropout_2 (<span style=\"color: #0087ff; text-decoration-color: #0087ff\">Dropout</span>)             │ (<span style=\"color: #00d7ff; text-decoration-color: #00d7ff\">None</span>, <span style=\"color: #00af00; text-decoration-color: #00af00\">48</span>)             │             <span style=\"color: #00af00; text-decoration-color: #00af00\">0</span> │\n",
       "├─────────────────────────────────┼────────────────────────┼───────────────┤\n",
       "│ dense_3 (<span style=\"color: #0087ff; text-decoration-color: #0087ff\">Dense</span>)                 │ (<span style=\"color: #00d7ff; text-decoration-color: #00d7ff\">None</span>, <span style=\"color: #00af00; text-decoration-color: #00af00\">1</span>)              │            <span style=\"color: #00af00; text-decoration-color: #00af00\">49</span> │\n",
       "├─────────────────────────────────┼────────────────────────┼───────────────┤\n",
       "│ activity_regularization         │ (<span style=\"color: #00d7ff; text-decoration-color: #00d7ff\">None</span>, <span style=\"color: #00af00; text-decoration-color: #00af00\">1</span>)              │             <span style=\"color: #00af00; text-decoration-color: #00af00\">0</span> │\n",
       "│ (<span style=\"color: #0087ff; text-decoration-color: #0087ff\">ActivityRegularization</span>)        │                        │               │\n",
       "└─────────────────────────────────┴────────────────────────┴───────────────┘\n",
       "</pre>\n"
      ],
      "text/plain": [
       "┏━━━━━━━━━━━━━━━━━━━━━━━━━━━━━━━━━┳━━━━━━━━━━━━━━━━━━━━━━━━┳━━━━━━━━━━━━━━━┓\n",
       "┃\u001b[1m \u001b[0m\u001b[1mLayer (type)                   \u001b[0m\u001b[1m \u001b[0m┃\u001b[1m \u001b[0m\u001b[1mOutput Shape          \u001b[0m\u001b[1m \u001b[0m┃\u001b[1m \u001b[0m\u001b[1m      Param #\u001b[0m\u001b[1m \u001b[0m┃\n",
       "┡━━━━━━━━━━━━━━━━━━━━━━━━━━━━━━━━━╇━━━━━━━━━━━━━━━━━━━━━━━━╇━━━━━━━━━━━━━━━┩\n",
       "│ dense (\u001b[38;5;33mDense\u001b[0m)                   │ (\u001b[38;5;45mNone\u001b[0m, \u001b[38;5;34m6\u001b[0m)              │            \u001b[38;5;34m42\u001b[0m │\n",
       "├─────────────────────────────────┼────────────────────────┼───────────────┤\n",
       "│ dropout (\u001b[38;5;33mDropout\u001b[0m)               │ (\u001b[38;5;45mNone\u001b[0m, \u001b[38;5;34m6\u001b[0m)              │             \u001b[38;5;34m0\u001b[0m │\n",
       "├─────────────────────────────────┼────────────────────────┼───────────────┤\n",
       "│ dense_1 (\u001b[38;5;33mDense\u001b[0m)                 │ (\u001b[38;5;45mNone\u001b[0m, \u001b[38;5;34m48\u001b[0m)             │           \u001b[38;5;34m336\u001b[0m │\n",
       "├─────────────────────────────────┼────────────────────────┼───────────────┤\n",
       "│ dropout_1 (\u001b[38;5;33mDropout\u001b[0m)             │ (\u001b[38;5;45mNone\u001b[0m, \u001b[38;5;34m48\u001b[0m)             │             \u001b[38;5;34m0\u001b[0m │\n",
       "├─────────────────────────────────┼────────────────────────┼───────────────┤\n",
       "│ dense_2 (\u001b[38;5;33mDense\u001b[0m)                 │ (\u001b[38;5;45mNone\u001b[0m, \u001b[38;5;34m48\u001b[0m)             │         \u001b[38;5;34m2,352\u001b[0m │\n",
       "├─────────────────────────────────┼────────────────────────┼───────────────┤\n",
       "│ dropout_2 (\u001b[38;5;33mDropout\u001b[0m)             │ (\u001b[38;5;45mNone\u001b[0m, \u001b[38;5;34m48\u001b[0m)             │             \u001b[38;5;34m0\u001b[0m │\n",
       "├─────────────────────────────────┼────────────────────────┼───────────────┤\n",
       "│ dense_3 (\u001b[38;5;33mDense\u001b[0m)                 │ (\u001b[38;5;45mNone\u001b[0m, \u001b[38;5;34m1\u001b[0m)              │            \u001b[38;5;34m49\u001b[0m │\n",
       "├─────────────────────────────────┼────────────────────────┼───────────────┤\n",
       "│ activity_regularization         │ (\u001b[38;5;45mNone\u001b[0m, \u001b[38;5;34m1\u001b[0m)              │             \u001b[38;5;34m0\u001b[0m │\n",
       "│ (\u001b[38;5;33mActivityRegularization\u001b[0m)        │                        │               │\n",
       "└─────────────────────────────────┴────────────────────────┴───────────────┘\n"
      ]
     },
     "metadata": {},
     "output_type": "display_data"
    },
    {
     "data": {
      "text/html": [
       "<pre style=\"white-space:pre;overflow-x:auto;line-height:normal;font-family:Menlo,'DejaVu Sans Mono',consolas,'Courier New',monospace\"><span style=\"font-weight: bold\"> Total params: </span><span style=\"color: #00af00; text-decoration-color: #00af00\">2,779</span> (10.86 KB)\n",
       "</pre>\n"
      ],
      "text/plain": [
       "\u001b[1m Total params: \u001b[0m\u001b[38;5;34m2,779\u001b[0m (10.86 KB)\n"
      ]
     },
     "metadata": {},
     "output_type": "display_data"
    },
    {
     "data": {
      "text/html": [
       "<pre style=\"white-space:pre;overflow-x:auto;line-height:normal;font-family:Menlo,'DejaVu Sans Mono',consolas,'Courier New',monospace\"><span style=\"font-weight: bold\"> Trainable params: </span><span style=\"color: #00af00; text-decoration-color: #00af00\">2,779</span> (10.86 KB)\n",
       "</pre>\n"
      ],
      "text/plain": [
       "\u001b[1m Trainable params: \u001b[0m\u001b[38;5;34m2,779\u001b[0m (10.86 KB)\n"
      ]
     },
     "metadata": {},
     "output_type": "display_data"
    },
    {
     "data": {
      "text/html": [
       "<pre style=\"white-space:pre;overflow-x:auto;line-height:normal;font-family:Menlo,'DejaVu Sans Mono',consolas,'Courier New',monospace\"><span style=\"font-weight: bold\"> Non-trainable params: </span><span style=\"color: #00af00; text-decoration-color: #00af00\">0</span> (0.00 B)\n",
       "</pre>\n"
      ],
      "text/plain": [
       "\u001b[1m Non-trainable params: \u001b[0m\u001b[38;5;34m0\u001b[0m (0.00 B)\n"
      ]
     },
     "metadata": {},
     "output_type": "display_data"
    }
   ],
   "source": [
    "# Create model\n",
    "model = Sequential()\n",
    "model.add(Dense(units=n_features, activation=activation, kernel_initializer='glorot_uniform', input_shape=(n_features,)))\n",
    "model.add(Dropout(dropout))\n",
    "model.add(Dense(units=n_nodes, activation=activation, kernel_initializer='glorot_uniform'))\n",
    "model.add(Dropout(dropout))\n",
    "model.add(Dense(units=n_nodes, activation=activation, kernel_initializer='glorot_uniform'))\n",
    "model.add(Dropout(dropout))\n",
    "model.add(Dense(units=1, activation='linear', kernel_initializer='glorot_uniform', kernel_regularizer=l2(l2_reg)))\n",
    "model.add(ActivityRegularization(l2=l2_reg))\n",
    "\n",
    "# Define the optimizer\n",
    "# Nadam is Adam + Nesterov momentum\n",
    "# optimizer = Nadam(learning_rate=learning_rate, decay=lr_decay, clipnorm=1) \n",
    "optimizer = Nadam(learning_rate=learning_rate, decay=lr_decay)\n",
    "\n",
    "# Compile the model and show a summary of it\n",
    "model.compile(loss=negative_log_likelihood(E_train), optimizer=optimizer)\n",
    "model.summary()"
   ]
  },
  {
   "cell_type": "markdown",
   "metadata": {},
   "source": [
    "Sometimes, the computation of the loss yields a `NaN`, which makes the whole\n",
    "output be `NaN` as well. I haven't identified a pattern, actually I think\n",
    "it is quite random. This could be due to a variety of reasons, including\n",
    "model parametrization (however, I don't really want to use different \n",
    "parameters than those reported), maybe even unfortunate parameter \n",
    "initialization. Therefore, we will use a technique called \"Early Stopping\".\n",
    "\n",
    "In this case, we will train the model until the number of epochs is reached\n",
    "*or* until the loss is an `NaN`. After that, training is stopped. Then,\n",
    "we will selected and use the model that yielded the smallest lost.\n",
    "\n",
    "We can achieve this very easily using [callbacks](https://www.tensorflow.org/api_docs/python/tf/keras/callbacks/Callback)"
   ]
  },
  {
   "cell_type": "code",
   "execution_count": 11,
   "metadata": {},
   "outputs": [],
   "source": [
    "callbacks = [tf.keras.callbacks.TerminateOnNaN(),\n",
    "             tf.keras.callbacks.ModelCheckpoint(str(PATH_MODELS/f'{example_file}.h5'), monitor='loss', save_best_only=True, mode='min')]"
   ]
  },
  {
   "cell_type": "markdown",
   "metadata": {},
   "source": [
    "## Model fitting\n",
    "Now we can fit the DeepSurv model. Notice how we use the whole set of \n",
    "patients in a batch. Furthermore, be sure that `shuffle` is set to `False`, \n",
    "since order is important in predicting ranked survival."
   ]
  },
  {
   "cell_type": "code",
   "execution_count": 12,
   "metadata": {},
   "outputs": [
    {
     "name": "stdout",
     "output_type": "stream",
     "text": [
      "Epoch 1/1000\n"
     ]
    },
    {
     "name": "stderr",
     "output_type": "stream",
     "text": [
      "WARNING:absl:You are saving your model as an HDF5 file via `model.save()` or `keras.saving.save_model(model)`. This file format is considered legacy. We recommend using instead the native Keras format, e.g. `model.save('my_model.keras')` or `keras.saving.save_model(model, 'my_model.keras')`. \n"
     ]
    },
    {
     "name": "stdout",
     "output_type": "stream",
     "text": [
      "Epoch 2/1000\n"
     ]
    },
    {
     "name": "stderr",
     "output_type": "stream",
     "text": [
      "WARNING:absl:You are saving your model as an HDF5 file via `model.save()` or `keras.saving.save_model(model)`. This file format is considered legacy. We recommend using instead the native Keras format, e.g. `model.save('my_model.keras')` or `keras.saving.save_model(model, 'my_model.keras')`. \n"
     ]
    },
    {
     "name": "stdout",
     "output_type": "stream",
     "text": [
      "Epoch 3/1000\n",
      "Epoch 4/1000\n"
     ]
    },
    {
     "name": "stderr",
     "output_type": "stream",
     "text": [
      "WARNING:absl:You are saving your model as an HDF5 file via `model.save()` or `keras.saving.save_model(model)`. This file format is considered legacy. We recommend using instead the native Keras format, e.g. `model.save('my_model.keras')` or `keras.saving.save_model(model, 'my_model.keras')`. \n"
     ]
    },
    {
     "name": "stdout",
     "output_type": "stream",
     "text": [
      "Epoch 5/1000\n"
     ]
    },
    {
     "name": "stderr",
     "output_type": "stream",
     "text": [
      "WARNING:absl:You are saving your model as an HDF5 file via `model.save()` or `keras.saving.save_model(model)`. This file format is considered legacy. We recommend using instead the native Keras format, e.g. `model.save('my_model.keras')` or `keras.saving.save_model(model, 'my_model.keras')`. \n"
     ]
    },
    {
     "name": "stdout",
     "output_type": "stream",
     "text": [
      "Epoch 6/1000\n"
     ]
    },
    {
     "name": "stderr",
     "output_type": "stream",
     "text": [
      "WARNING:absl:You are saving your model as an HDF5 file via `model.save()` or `keras.saving.save_model(model)`. This file format is considered legacy. We recommend using instead the native Keras format, e.g. `model.save('my_model.keras')` or `keras.saving.save_model(model, 'my_model.keras')`. \n"
     ]
    },
    {
     "name": "stdout",
     "output_type": "stream",
     "text": [
      "Epoch 7/1000\n",
      "Epoch 8/1000\n"
     ]
    },
    {
     "name": "stderr",
     "output_type": "stream",
     "text": [
      "WARNING:absl:You are saving your model as an HDF5 file via `model.save()` or `keras.saving.save_model(model)`. This file format is considered legacy. We recommend using instead the native Keras format, e.g. `model.save('my_model.keras')` or `keras.saving.save_model(model, 'my_model.keras')`. \n"
     ]
    },
    {
     "name": "stdout",
     "output_type": "stream",
     "text": [
      "Epoch 9/1000\n",
      "Epoch 10/1000\n",
      "Epoch 11/1000\n"
     ]
    },
    {
     "name": "stderr",
     "output_type": "stream",
     "text": [
      "WARNING:absl:You are saving your model as an HDF5 file via `model.save()` or `keras.saving.save_model(model)`. This file format is considered legacy. We recommend using instead the native Keras format, e.g. `model.save('my_model.keras')` or `keras.saving.save_model(model, 'my_model.keras')`. \n"
     ]
    },
    {
     "name": "stdout",
     "output_type": "stream",
     "text": [
      "Epoch 12/1000\n",
      "Epoch 13/1000\n",
      "Epoch 14/1000\n"
     ]
    },
    {
     "name": "stderr",
     "output_type": "stream",
     "text": [
      "WARNING:absl:You are saving your model as an HDF5 file via `model.save()` or `keras.saving.save_model(model)`. This file format is considered legacy. We recommend using instead the native Keras format, e.g. `model.save('my_model.keras')` or `keras.saving.save_model(model, 'my_model.keras')`. \n"
     ]
    },
    {
     "name": "stdout",
     "output_type": "stream",
     "text": [
      "Epoch 15/1000\n",
      "Epoch 16/1000\n",
      "Epoch 17/1000\n"
     ]
    },
    {
     "name": "stderr",
     "output_type": "stream",
     "text": [
      "WARNING:absl:You are saving your model as an HDF5 file via `model.save()` or `keras.saving.save_model(model)`. This file format is considered legacy. We recommend using instead the native Keras format, e.g. `model.save('my_model.keras')` or `keras.saving.save_model(model, 'my_model.keras')`. \n"
     ]
    },
    {
     "name": "stdout",
     "output_type": "stream",
     "text": [
      "Epoch 18/1000\n",
      "Epoch 19/1000\n",
      "Epoch 20/1000\n",
      "Epoch 21/1000\n",
      "Epoch 22/1000\n",
      "Epoch 23/1000\n"
     ]
    },
    {
     "name": "stderr",
     "output_type": "stream",
     "text": [
      "WARNING:absl:You are saving your model as an HDF5 file via `model.save()` or `keras.saving.save_model(model)`. This file format is considered legacy. We recommend using instead the native Keras format, e.g. `model.save('my_model.keras')` or `keras.saving.save_model(model, 'my_model.keras')`. \n"
     ]
    },
    {
     "name": "stdout",
     "output_type": "stream",
     "text": [
      "Epoch 24/1000\n",
      "Epoch 25/1000\n",
      "Epoch 26/1000\n",
      "Epoch 27/1000\n",
      "Epoch 28/1000\n",
      "Epoch 29/1000\n"
     ]
    },
    {
     "name": "stderr",
     "output_type": "stream",
     "text": [
      "WARNING:absl:You are saving your model as an HDF5 file via `model.save()` or `keras.saving.save_model(model)`. This file format is considered legacy. We recommend using instead the native Keras format, e.g. `model.save('my_model.keras')` or `keras.saving.save_model(model, 'my_model.keras')`. \n"
     ]
    },
    {
     "name": "stdout",
     "output_type": "stream",
     "text": [
      "Epoch 30/1000\n"
     ]
    },
    {
     "name": "stderr",
     "output_type": "stream",
     "text": [
      "WARNING:absl:You are saving your model as an HDF5 file via `model.save()` or `keras.saving.save_model(model)`. This file format is considered legacy. We recommend using instead the native Keras format, e.g. `model.save('my_model.keras')` or `keras.saving.save_model(model, 'my_model.keras')`. \n"
     ]
    },
    {
     "name": "stdout",
     "output_type": "stream",
     "text": [
      "Epoch 31/1000\n",
      "Epoch 32/1000\n"
     ]
    },
    {
     "name": "stderr",
     "output_type": "stream",
     "text": [
      "WARNING:absl:You are saving your model as an HDF5 file via `model.save()` or `keras.saving.save_model(model)`. This file format is considered legacy. We recommend using instead the native Keras format, e.g. `model.save('my_model.keras')` or `keras.saving.save_model(model, 'my_model.keras')`. \n"
     ]
    },
    {
     "name": "stdout",
     "output_type": "stream",
     "text": [
      "Epoch 33/1000\n",
      "Epoch 34/1000\n",
      "Epoch 35/1000\n",
      "Epoch 36/1000\n",
      "Epoch 37/1000\n"
     ]
    },
    {
     "name": "stderr",
     "output_type": "stream",
     "text": [
      "WARNING:absl:You are saving your model as an HDF5 file via `model.save()` or `keras.saving.save_model(model)`. This file format is considered legacy. We recommend using instead the native Keras format, e.g. `model.save('my_model.keras')` or `keras.saving.save_model(model, 'my_model.keras')`. \n"
     ]
    },
    {
     "name": "stdout",
     "output_type": "stream",
     "text": [
      "Epoch 38/1000\n",
      "Epoch 39/1000\n",
      "Epoch 40/1000\n",
      "Epoch 41/1000\n",
      "Epoch 42/1000\n",
      "Epoch 43/1000\n"
     ]
    },
    {
     "name": "stderr",
     "output_type": "stream",
     "text": [
      "WARNING:absl:You are saving your model as an HDF5 file via `model.save()` or `keras.saving.save_model(model)`. This file format is considered legacy. We recommend using instead the native Keras format, e.g. `model.save('my_model.keras')` or `keras.saving.save_model(model, 'my_model.keras')`. \n"
     ]
    },
    {
     "name": "stdout",
     "output_type": "stream",
     "text": [
      "Epoch 44/1000\n",
      "Epoch 45/1000\n"
     ]
    },
    {
     "name": "stderr",
     "output_type": "stream",
     "text": [
      "WARNING:absl:You are saving your model as an HDF5 file via `model.save()` or `keras.saving.save_model(model)`. This file format is considered legacy. We recommend using instead the native Keras format, e.g. `model.save('my_model.keras')` or `keras.saving.save_model(model, 'my_model.keras')`. \n"
     ]
    },
    {
     "name": "stdout",
     "output_type": "stream",
     "text": [
      "Epoch 46/1000\n",
      "Epoch 47/1000\n",
      "Epoch 48/1000\n",
      "Epoch 49/1000\n",
      "Epoch 50/1000\n",
      "Epoch 51/1000\n",
      "Epoch 52/1000\n",
      "Epoch 53/1000\n",
      "Epoch 54/1000\n",
      "Epoch 55/1000\n"
     ]
    },
    {
     "name": "stderr",
     "output_type": "stream",
     "text": [
      "WARNING:absl:You are saving your model as an HDF5 file via `model.save()` or `keras.saving.save_model(model)`. This file format is considered legacy. We recommend using instead the native Keras format, e.g. `model.save('my_model.keras')` or `keras.saving.save_model(model, 'my_model.keras')`. \n"
     ]
    },
    {
     "name": "stdout",
     "output_type": "stream",
     "text": [
      "Epoch 56/1000\n",
      "Epoch 57/1000\n",
      "Epoch 58/1000\n",
      "Epoch 59/1000\n",
      "Epoch 60/1000\n",
      "Epoch 61/1000\n",
      "Epoch 62/1000\n",
      "Epoch 63/1000\n",
      "Epoch 64/1000\n",
      "Epoch 65/1000\n",
      "Epoch 66/1000\n",
      "Epoch 67/1000\n",
      "Epoch 68/1000\n"
     ]
    },
    {
     "name": "stderr",
     "output_type": "stream",
     "text": [
      "WARNING:absl:You are saving your model as an HDF5 file via `model.save()` or `keras.saving.save_model(model)`. This file format is considered legacy. We recommend using instead the native Keras format, e.g. `model.save('my_model.keras')` or `keras.saving.save_model(model, 'my_model.keras')`. \n"
     ]
    },
    {
     "name": "stdout",
     "output_type": "stream",
     "text": [
      "Epoch 69/1000\n",
      "Epoch 70/1000\n",
      "Epoch 71/1000\n",
      "Epoch 72/1000\n",
      "Epoch 73/1000\n",
      "Epoch 74/1000\n",
      "Epoch 75/1000\n",
      "Epoch 76/1000\n",
      "Epoch 77/1000\n",
      "Epoch 78/1000\n"
     ]
    },
    {
     "name": "stderr",
     "output_type": "stream",
     "text": [
      "WARNING:absl:You are saving your model as an HDF5 file via `model.save()` or `keras.saving.save_model(model)`. This file format is considered legacy. We recommend using instead the native Keras format, e.g. `model.save('my_model.keras')` or `keras.saving.save_model(model, 'my_model.keras')`. \n"
     ]
    },
    {
     "name": "stdout",
     "output_type": "stream",
     "text": [
      "Epoch 79/1000\n",
      "Epoch 80/1000\n",
      "Epoch 81/1000\n"
     ]
    },
    {
     "name": "stderr",
     "output_type": "stream",
     "text": [
      "WARNING:absl:You are saving your model as an HDF5 file via `model.save()` or `keras.saving.save_model(model)`. This file format is considered legacy. We recommend using instead the native Keras format, e.g. `model.save('my_model.keras')` or `keras.saving.save_model(model, 'my_model.keras')`. \n"
     ]
    },
    {
     "name": "stdout",
     "output_type": "stream",
     "text": [
      "Epoch 82/1000\n",
      "Epoch 83/1000\n",
      "Epoch 84/1000\n",
      "Epoch 85/1000\n",
      "Epoch 86/1000\n",
      "Epoch 87/1000\n",
      "Epoch 88/1000\n",
      "Epoch 89/1000\n",
      "Epoch 90/1000\n",
      "Epoch 91/1000\n",
      "Epoch 92/1000\n",
      "Epoch 93/1000\n",
      "Epoch 94/1000\n",
      "Epoch 95/1000\n",
      "Epoch 96/1000\n",
      "Epoch 97/1000\n",
      "Epoch 98/1000\n",
      "Epoch 99/1000\n",
      "Epoch 100/1000\n",
      "Epoch 101/1000\n",
      "Epoch 102/1000\n",
      "Epoch 103/1000\n",
      "Epoch 104/1000\n",
      "Epoch 105/1000\n",
      "Epoch 106/1000\n",
      "Epoch 107/1000\n",
      "Epoch 108/1000\n",
      "Epoch 109/1000\n",
      "Epoch 110/1000\n",
      "Epoch 111/1000\n",
      "Epoch 112/1000\n",
      "Epoch 113/1000\n",
      "Epoch 114/1000\n",
      "Epoch 115/1000\n",
      "Epoch 116/1000\n",
      "Epoch 117/1000\n",
      "Epoch 118/1000\n"
     ]
    },
    {
     "name": "stderr",
     "output_type": "stream",
     "text": [
      "WARNING:absl:You are saving your model as an HDF5 file via `model.save()` or `keras.saving.save_model(model)`. This file format is considered legacy. We recommend using instead the native Keras format, e.g. `model.save('my_model.keras')` or `keras.saving.save_model(model, 'my_model.keras')`. \n"
     ]
    },
    {
     "name": "stdout",
     "output_type": "stream",
     "text": [
      "Epoch 119/1000\n",
      "Epoch 120/1000\n",
      "Epoch 121/1000\n"
     ]
    },
    {
     "name": "stderr",
     "output_type": "stream",
     "text": [
      "WARNING:absl:You are saving your model as an HDF5 file via `model.save()` or `keras.saving.save_model(model)`. This file format is considered legacy. We recommend using instead the native Keras format, e.g. `model.save('my_model.keras')` or `keras.saving.save_model(model, 'my_model.keras')`. \n"
     ]
    },
    {
     "name": "stdout",
     "output_type": "stream",
     "text": [
      "Epoch 122/1000\n",
      "Epoch 123/1000\n",
      "Epoch 124/1000\n",
      "Epoch 125/1000\n",
      "Epoch 126/1000\n",
      "Epoch 127/1000\n",
      "Epoch 128/1000\n",
      "Epoch 129/1000\n",
      "Epoch 130/1000\n",
      "Epoch 131/1000\n",
      "Epoch 132/1000\n",
      "Epoch 133/1000\n",
      "Epoch 134/1000\n",
      "Epoch 135/1000\n",
      "Epoch 136/1000\n",
      "Epoch 137/1000\n",
      "Epoch 138/1000\n",
      "Epoch 139/1000\n",
      "Epoch 140/1000\n",
      "Epoch 141/1000\n",
      "Epoch 142/1000\n",
      "Epoch 143/1000\n",
      "Epoch 144/1000\n",
      "Epoch 145/1000\n",
      "Epoch 146/1000\n",
      "Epoch 147/1000\n",
      "Epoch 148/1000\n",
      "Epoch 149/1000\n",
      "Epoch 150/1000\n",
      "Epoch 151/1000\n",
      "Epoch 152/1000\n",
      "Epoch 153/1000\n",
      "Epoch 154/1000\n",
      "Epoch 155/1000\n",
      "Epoch 156/1000\n",
      "Epoch 157/1000\n",
      "Epoch 158/1000\n",
      "Epoch 159/1000\n",
      "Epoch 160/1000\n",
      "Epoch 161/1000\n",
      "Epoch 162/1000\n",
      "Epoch 163/1000\n",
      "Epoch 164/1000\n",
      "Epoch 165/1000\n",
      "Epoch 166/1000\n",
      "Epoch 167/1000\n",
      "Epoch 168/1000\n",
      "Epoch 169/1000\n",
      "Epoch 170/1000\n",
      "Epoch 171/1000\n",
      "Epoch 172/1000\n",
      "Epoch 173/1000\n",
      "Epoch 174/1000\n",
      "Epoch 175/1000\n",
      "Epoch 176/1000\n",
      "Epoch 177/1000\n",
      "Epoch 178/1000\n",
      "Epoch 179/1000\n",
      "Epoch 180/1000\n",
      "Epoch 181/1000\n",
      "Epoch 182/1000\n",
      "Epoch 183/1000\n",
      "Epoch 184/1000\n",
      "Epoch 185/1000\n",
      "Epoch 186/1000\n",
      "Epoch 187/1000\n"
     ]
    },
    {
     "name": "stderr",
     "output_type": "stream",
     "text": [
      "WARNING:absl:You are saving your model as an HDF5 file via `model.save()` or `keras.saving.save_model(model)`. This file format is considered legacy. We recommend using instead the native Keras format, e.g. `model.save('my_model.keras')` or `keras.saving.save_model(model, 'my_model.keras')`. \n"
     ]
    },
    {
     "name": "stdout",
     "output_type": "stream",
     "text": [
      "Epoch 188/1000\n"
     ]
    },
    {
     "name": "stderr",
     "output_type": "stream",
     "text": [
      "WARNING:absl:You are saving your model as an HDF5 file via `model.save()` or `keras.saving.save_model(model)`. This file format is considered legacy. We recommend using instead the native Keras format, e.g. `model.save('my_model.keras')` or `keras.saving.save_model(model, 'my_model.keras')`. \n"
     ]
    },
    {
     "name": "stdout",
     "output_type": "stream",
     "text": [
      "Epoch 189/1000\n",
      "Epoch 190/1000\n",
      "Epoch 191/1000\n",
      "Epoch 192/1000\n"
     ]
    },
    {
     "name": "stderr",
     "output_type": "stream",
     "text": [
      "WARNING:absl:You are saving your model as an HDF5 file via `model.save()` or `keras.saving.save_model(model)`. This file format is considered legacy. We recommend using instead the native Keras format, e.g. `model.save('my_model.keras')` or `keras.saving.save_model(model, 'my_model.keras')`. \n"
     ]
    },
    {
     "name": "stdout",
     "output_type": "stream",
     "text": [
      "Epoch 193/1000\n",
      "Epoch 194/1000\n",
      "Epoch 195/1000\n",
      "Epoch 196/1000\n",
      "Epoch 197/1000\n",
      "Epoch 198/1000\n",
      "Epoch 199/1000\n",
      "Epoch 200/1000\n"
     ]
    },
    {
     "name": "stderr",
     "output_type": "stream",
     "text": [
      "WARNING:absl:You are saving your model as an HDF5 file via `model.save()` or `keras.saving.save_model(model)`. This file format is considered legacy. We recommend using instead the native Keras format, e.g. `model.save('my_model.keras')` or `keras.saving.save_model(model, 'my_model.keras')`. \n"
     ]
    },
    {
     "name": "stdout",
     "output_type": "stream",
     "text": [
      "Epoch 201/1000\n",
      "Epoch 202/1000\n",
      "Epoch 203/1000\n",
      "Epoch 204/1000\n",
      "Epoch 205/1000\n",
      "Epoch 206/1000\n",
      "Epoch 207/1000\n",
      "Epoch 208/1000\n",
      "Epoch 209/1000\n",
      "Epoch 210/1000\n",
      "Epoch 211/1000\n",
      "Epoch 212/1000\n",
      "Epoch 213/1000\n",
      "Epoch 214/1000\n",
      "Epoch 215/1000\n",
      "Epoch 216/1000\n",
      "Epoch 217/1000\n",
      "Epoch 218/1000\n",
      "Epoch 219/1000\n",
      "Epoch 220/1000\n",
      "Epoch 221/1000\n",
      "Epoch 222/1000\n",
      "Epoch 223/1000\n",
      "Epoch 224/1000\n",
      "Epoch 225/1000\n"
     ]
    },
    {
     "name": "stderr",
     "output_type": "stream",
     "text": [
      "WARNING:absl:You are saving your model as an HDF5 file via `model.save()` or `keras.saving.save_model(model)`. This file format is considered legacy. We recommend using instead the native Keras format, e.g. `model.save('my_model.keras')` or `keras.saving.save_model(model, 'my_model.keras')`. \n"
     ]
    },
    {
     "name": "stdout",
     "output_type": "stream",
     "text": [
      "Epoch 226/1000\n",
      "Epoch 227/1000\n",
      "Epoch 228/1000\n",
      "Epoch 229/1000\n",
      "Epoch 230/1000\n",
      "Epoch 231/1000\n",
      "Epoch 232/1000\n",
      "Epoch 233/1000\n",
      "Epoch 234/1000\n",
      "Epoch 235/1000\n",
      "Epoch 236/1000\n",
      "Epoch 237/1000\n",
      "Epoch 238/1000\n",
      "Epoch 239/1000\n",
      "Epoch 240/1000\n",
      "Epoch 241/1000\n",
      "Epoch 242/1000\n",
      "Epoch 243/1000\n",
      "Epoch 244/1000\n",
      "Epoch 245/1000\n",
      "Epoch 246/1000\n",
      "Epoch 247/1000\n",
      "Epoch 248/1000\n",
      "Epoch 249/1000\n",
      "Epoch 250/1000\n",
      "Epoch 251/1000\n",
      "Epoch 252/1000\n",
      "Epoch 253/1000\n",
      "Epoch 254/1000\n",
      "Epoch 255/1000\n",
      "Epoch 256/1000\n",
      "Epoch 257/1000\n",
      "Epoch 258/1000\n",
      "Epoch 259/1000\n",
      "Epoch 260/1000\n",
      "Epoch 261/1000\n",
      "Epoch 262/1000\n",
      "Epoch 263/1000\n",
      "Epoch 264/1000\n",
      "Epoch 265/1000\n",
      "Epoch 266/1000\n",
      "Epoch 267/1000\n",
      "Epoch 268/1000\n",
      "Epoch 269/1000\n",
      "Epoch 270/1000\n",
      "Epoch 271/1000\n"
     ]
    },
    {
     "name": "stderr",
     "output_type": "stream",
     "text": [
      "WARNING:absl:You are saving your model as an HDF5 file via `model.save()` or `keras.saving.save_model(model)`. This file format is considered legacy. We recommend using instead the native Keras format, e.g. `model.save('my_model.keras')` or `keras.saving.save_model(model, 'my_model.keras')`. \n"
     ]
    },
    {
     "name": "stdout",
     "output_type": "stream",
     "text": [
      "Epoch 272/1000\n",
      "Epoch 273/1000\n"
     ]
    },
    {
     "name": "stderr",
     "output_type": "stream",
     "text": [
      "WARNING:absl:You are saving your model as an HDF5 file via `model.save()` or `keras.saving.save_model(model)`. This file format is considered legacy. We recommend using instead the native Keras format, e.g. `model.save('my_model.keras')` or `keras.saving.save_model(model, 'my_model.keras')`. \n"
     ]
    },
    {
     "name": "stdout",
     "output_type": "stream",
     "text": [
      "Epoch 274/1000\n",
      "Epoch 275/1000\n"
     ]
    },
    {
     "name": "stderr",
     "output_type": "stream",
     "text": [
      "WARNING:absl:You are saving your model as an HDF5 file via `model.save()` or `keras.saving.save_model(model)`. This file format is considered legacy. We recommend using instead the native Keras format, e.g. `model.save('my_model.keras')` or `keras.saving.save_model(model, 'my_model.keras')`. \n"
     ]
    },
    {
     "name": "stdout",
     "output_type": "stream",
     "text": [
      "Epoch 276/1000\n",
      "Epoch 277/1000\n",
      "Epoch 278/1000\n",
      "Epoch 279/1000\n",
      "Epoch 280/1000\n",
      "Epoch 281/1000\n",
      "Epoch 282/1000\n",
      "Epoch 283/1000\n",
      "Epoch 284/1000\n",
      "Epoch 285/1000\n",
      "Epoch 286/1000\n",
      "Epoch 287/1000\n",
      "Epoch 288/1000\n",
      "Epoch 289/1000\n",
      "Epoch 290/1000\n",
      "Epoch 291/1000\n",
      "Epoch 292/1000\n",
      "Epoch 293/1000\n",
      "Epoch 294/1000\n",
      "Epoch 295/1000\n"
     ]
    },
    {
     "name": "stderr",
     "output_type": "stream",
     "text": [
      "WARNING:absl:You are saving your model as an HDF5 file via `model.save()` or `keras.saving.save_model(model)`. This file format is considered legacy. We recommend using instead the native Keras format, e.g. `model.save('my_model.keras')` or `keras.saving.save_model(model, 'my_model.keras')`. \n"
     ]
    },
    {
     "name": "stdout",
     "output_type": "stream",
     "text": [
      "Epoch 296/1000\n",
      "Epoch 297/1000\n",
      "Epoch 298/1000\n",
      "Epoch 299/1000\n",
      "Epoch 300/1000\n",
      "Epoch 301/1000\n",
      "Epoch 302/1000\n",
      "Epoch 303/1000\n",
      "Epoch 304/1000\n",
      "Epoch 305/1000\n",
      "Epoch 306/1000\n",
      "Epoch 307/1000\n",
      "Epoch 308/1000\n",
      "Epoch 309/1000\n",
      "Epoch 310/1000\n",
      "Epoch 311/1000\n",
      "Epoch 312/1000\n",
      "Epoch 313/1000\n",
      "Epoch 314/1000\n",
      "Epoch 315/1000\n",
      "Epoch 316/1000\n",
      "Epoch 317/1000\n",
      "Epoch 318/1000\n",
      "Epoch 319/1000\n",
      "Epoch 320/1000\n",
      "Epoch 321/1000\n",
      "Epoch 322/1000\n",
      "Epoch 323/1000\n",
      "Epoch 324/1000\n",
      "Epoch 325/1000\n",
      "Epoch 326/1000\n",
      "Epoch 327/1000\n",
      "Epoch 328/1000\n",
      "Epoch 329/1000\n",
      "Epoch 330/1000\n",
      "Epoch 331/1000\n",
      "Epoch 332/1000\n",
      "Epoch 333/1000\n",
      "Epoch 334/1000\n",
      "Epoch 335/1000\n",
      "Epoch 336/1000\n",
      "Epoch 337/1000\n",
      "Epoch 338/1000\n",
      "Epoch 339/1000\n",
      "Epoch 340/1000\n",
      "Epoch 341/1000\n",
      "Epoch 342/1000\n",
      "Epoch 343/1000\n",
      "Epoch 344/1000\n",
      "Epoch 345/1000\n",
      "Epoch 346/1000\n",
      "Epoch 347/1000\n",
      "Epoch 348/1000\n",
      "Epoch 349/1000\n",
      "Epoch 350/1000\n",
      "Epoch 351/1000\n",
      "Epoch 352/1000\n",
      "Epoch 353/1000\n",
      "Epoch 354/1000\n",
      "Epoch 355/1000\n",
      "Epoch 356/1000\n",
      "Epoch 357/1000\n",
      "Epoch 358/1000\n",
      "Epoch 359/1000\n",
      "Epoch 360/1000\n",
      "Epoch 361/1000\n",
      "Epoch 362/1000\n",
      "Epoch 363/1000\n",
      "Epoch 364/1000\n",
      "Epoch 365/1000\n",
      "Epoch 366/1000\n",
      "Epoch 367/1000\n"
     ]
    },
    {
     "name": "stderr",
     "output_type": "stream",
     "text": [
      "WARNING:absl:You are saving your model as an HDF5 file via `model.save()` or `keras.saving.save_model(model)`. This file format is considered legacy. We recommend using instead the native Keras format, e.g. `model.save('my_model.keras')` or `keras.saving.save_model(model, 'my_model.keras')`. \n"
     ]
    },
    {
     "name": "stdout",
     "output_type": "stream",
     "text": [
      "Epoch 368/1000\n",
      "Epoch 369/1000\n",
      "Epoch 370/1000\n",
      "Epoch 371/1000\n",
      "Epoch 372/1000\n",
      "Epoch 373/1000\n",
      "Epoch 374/1000\n"
     ]
    },
    {
     "name": "stderr",
     "output_type": "stream",
     "text": [
      "WARNING:absl:You are saving your model as an HDF5 file via `model.save()` or `keras.saving.save_model(model)`. This file format is considered legacy. We recommend using instead the native Keras format, e.g. `model.save('my_model.keras')` or `keras.saving.save_model(model, 'my_model.keras')`. \n"
     ]
    },
    {
     "name": "stdout",
     "output_type": "stream",
     "text": [
      "Epoch 375/1000\n",
      "Epoch 376/1000\n",
      "Epoch 377/1000\n",
      "Epoch 378/1000\n",
      "Epoch 379/1000\n",
      "Epoch 380/1000\n",
      "Epoch 381/1000\n",
      "Epoch 382/1000\n",
      "Epoch 383/1000\n",
      "Epoch 384/1000\n",
      "Epoch 385/1000\n",
      "Epoch 386/1000\n",
      "Epoch 387/1000\n",
      "Epoch 388/1000\n",
      "Epoch 389/1000\n",
      "Epoch 390/1000\n",
      "Epoch 391/1000\n",
      "Epoch 392/1000\n",
      "Epoch 393/1000\n",
      "Epoch 394/1000\n",
      "Epoch 395/1000\n",
      "Epoch 396/1000\n",
      "Epoch 397/1000\n",
      "Epoch 398/1000\n",
      "Epoch 399/1000\n",
      "Epoch 400/1000\n",
      "Epoch 401/1000\n",
      "Epoch 402/1000\n",
      "Epoch 403/1000\n",
      "Epoch 404/1000\n",
      "Epoch 405/1000\n",
      "Epoch 406/1000\n",
      "Epoch 407/1000\n",
      "Epoch 408/1000\n",
      "Epoch 409/1000\n",
      "Epoch 410/1000\n",
      "Epoch 411/1000\n",
      "Epoch 412/1000\n",
      "Epoch 413/1000\n",
      "Epoch 414/1000\n"
     ]
    },
    {
     "name": "stderr",
     "output_type": "stream",
     "text": [
      "WARNING:absl:You are saving your model as an HDF5 file via `model.save()` or `keras.saving.save_model(model)`. This file format is considered legacy. We recommend using instead the native Keras format, e.g. `model.save('my_model.keras')` or `keras.saving.save_model(model, 'my_model.keras')`. \n"
     ]
    },
    {
     "name": "stdout",
     "output_type": "stream",
     "text": [
      "Epoch 415/1000\n",
      "Epoch 416/1000\n",
      "Epoch 417/1000\n",
      "Epoch 418/1000\n",
      "Epoch 419/1000\n",
      "Epoch 420/1000\n",
      "Epoch 421/1000\n",
      "Epoch 422/1000\n",
      "Epoch 423/1000\n",
      "Epoch 424/1000\n",
      "Epoch 425/1000\n",
      "Epoch 426/1000\n",
      "Epoch 427/1000\n",
      "Epoch 428/1000\n",
      "Epoch 429/1000\n",
      "Epoch 430/1000\n",
      "Epoch 431/1000\n",
      "Epoch 432/1000\n",
      "Epoch 433/1000\n",
      "Epoch 434/1000\n",
      "Epoch 435/1000\n",
      "Epoch 436/1000\n",
      "Epoch 437/1000\n",
      "Epoch 438/1000\n",
      "Epoch 439/1000\n",
      "Epoch 440/1000\n",
      "Epoch 441/1000\n",
      "Epoch 442/1000\n",
      "Epoch 443/1000\n",
      "Epoch 444/1000\n",
      "Epoch 445/1000\n",
      "Epoch 446/1000\n",
      "Epoch 447/1000\n",
      "Epoch 448/1000\n",
      "Epoch 449/1000\n",
      "Epoch 450/1000\n",
      "Epoch 451/1000\n",
      "Epoch 452/1000\n",
      "Epoch 453/1000\n",
      "Epoch 454/1000\n",
      "Epoch 455/1000\n",
      "Epoch 456/1000\n",
      "Epoch 457/1000\n",
      "Epoch 458/1000\n",
      "Epoch 459/1000\n",
      "Epoch 460/1000\n",
      "Epoch 461/1000\n",
      "Epoch 462/1000\n",
      "Epoch 463/1000\n",
      "Epoch 464/1000\n",
      "Epoch 465/1000\n",
      "Epoch 466/1000\n",
      "Epoch 467/1000\n",
      "Epoch 468/1000\n",
      "Epoch 469/1000\n",
      "Epoch 470/1000\n",
      "Epoch 471/1000\n",
      "Epoch 472/1000\n",
      "Epoch 473/1000\n",
      "Epoch 474/1000\n",
      "Epoch 475/1000\n",
      "Epoch 476/1000\n",
      "Epoch 477/1000\n",
      "Epoch 478/1000\n",
      "Epoch 479/1000\n",
      "Epoch 480/1000\n",
      "Epoch 481/1000\n",
      "Epoch 482/1000\n",
      "Epoch 483/1000\n",
      "Epoch 484/1000\n",
      "Epoch 485/1000\n",
      "Epoch 486/1000\n",
      "Epoch 487/1000\n",
      "Epoch 488/1000\n",
      "Epoch 489/1000\n",
      "Epoch 490/1000\n",
      "Epoch 491/1000\n",
      "Epoch 492/1000\n",
      "Epoch 493/1000\n",
      "Epoch 494/1000\n",
      "Epoch 495/1000\n",
      "Epoch 496/1000\n",
      "Epoch 497/1000\n",
      "Epoch 498/1000\n",
      "Epoch 499/1000\n",
      "Epoch 500/1000\n",
      "Epoch 501/1000\n",
      "Epoch 502/1000\n",
      "Epoch 503/1000\n",
      "Epoch 504/1000\n",
      "Epoch 505/1000\n",
      "Epoch 506/1000\n",
      "Epoch 507/1000\n",
      "Epoch 508/1000\n",
      "Epoch 509/1000\n",
      "Epoch 510/1000\n",
      "Epoch 511/1000\n",
      "Epoch 512/1000\n",
      "Epoch 513/1000\n",
      "Epoch 514/1000\n",
      "Epoch 515/1000\n",
      "Epoch 516/1000\n",
      "Epoch 517/1000\n",
      "Epoch 518/1000\n",
      "Epoch 519/1000\n",
      "Epoch 520/1000\n",
      "Epoch 521/1000\n",
      "Epoch 522/1000\n",
      "Epoch 523/1000\n",
      "Epoch 524/1000\n",
      "Epoch 525/1000\n",
      "Epoch 526/1000\n",
      "Epoch 527/1000\n",
      "Epoch 528/1000\n",
      "Epoch 529/1000\n",
      "Epoch 530/1000\n",
      "Epoch 531/1000\n",
      "Epoch 532/1000\n",
      "Epoch 533/1000\n",
      "Epoch 534/1000\n",
      "Epoch 535/1000\n",
      "Epoch 536/1000\n",
      "Epoch 537/1000\n",
      "Epoch 538/1000\n",
      "Epoch 539/1000\n",
      "Epoch 540/1000\n",
      "Epoch 541/1000\n",
      "Epoch 542/1000\n",
      "Epoch 543/1000\n",
      "Epoch 544/1000\n",
      "Epoch 545/1000\n",
      "Epoch 546/1000\n",
      "Epoch 547/1000\n",
      "Epoch 548/1000\n",
      "Epoch 549/1000\n",
      "Epoch 550/1000\n",
      "Epoch 551/1000\n",
      "Epoch 552/1000\n",
      "Epoch 553/1000\n",
      "Epoch 554/1000\n",
      "Epoch 555/1000\n",
      "Epoch 556/1000\n",
      "Epoch 557/1000\n",
      "Epoch 558/1000\n",
      "Epoch 559/1000\n",
      "Epoch 560/1000\n",
      "Epoch 561/1000\n",
      "Epoch 562/1000\n",
      "Epoch 563/1000\n",
      "Epoch 564/1000\n",
      "Epoch 565/1000\n",
      "Epoch 566/1000\n",
      "Epoch 567/1000\n",
      "Epoch 568/1000\n",
      "Epoch 569/1000\n",
      "Epoch 570/1000\n",
      "Epoch 571/1000\n",
      "Epoch 572/1000\n",
      "Epoch 573/1000\n",
      "Epoch 574/1000\n",
      "Epoch 575/1000\n",
      "Epoch 576/1000\n",
      "Epoch 577/1000\n",
      "Epoch 578/1000\n",
      "Epoch 579/1000\n",
      "Epoch 580/1000\n",
      "Epoch 581/1000\n",
      "Epoch 582/1000\n",
      "Epoch 583/1000\n",
      "Epoch 584/1000\n",
      "Epoch 585/1000\n",
      "Epoch 586/1000\n",
      "Epoch 587/1000\n",
      "Epoch 588/1000\n",
      "Epoch 589/1000\n",
      "Epoch 590/1000\n",
      "Epoch 591/1000\n",
      "Epoch 592/1000\n",
      "Epoch 593/1000\n",
      "Epoch 594/1000\n",
      "Epoch 595/1000\n",
      "Epoch 596/1000\n",
      "Epoch 597/1000\n",
      "Epoch 598/1000\n",
      "Epoch 599/1000\n",
      "Epoch 600/1000\n",
      "Epoch 601/1000\n",
      "Epoch 602/1000\n",
      "Epoch 603/1000\n",
      "Epoch 604/1000\n",
      "Epoch 605/1000\n",
      "Epoch 606/1000\n",
      "Epoch 607/1000\n",
      "Epoch 608/1000\n",
      "Epoch 609/1000\n",
      "Epoch 610/1000\n",
      "Epoch 611/1000\n",
      "Epoch 612/1000\n",
      "Epoch 613/1000\n",
      "Epoch 614/1000\n",
      "Epoch 615/1000\n",
      "Epoch 616/1000\n",
      "Epoch 617/1000\n",
      "Epoch 618/1000\n",
      "Epoch 619/1000\n",
      "Epoch 620/1000\n",
      "Epoch 621/1000\n",
      "Epoch 622/1000\n",
      "Epoch 623/1000\n",
      "Epoch 624/1000\n",
      "Epoch 625/1000\n",
      "Epoch 626/1000\n",
      "Epoch 627/1000\n",
      "Epoch 628/1000\n",
      "Epoch 629/1000\n",
      "Epoch 630/1000\n",
      "Epoch 631/1000\n",
      "Epoch 632/1000\n",
      "Epoch 633/1000\n",
      "Epoch 634/1000\n",
      "Epoch 635/1000\n",
      "Epoch 636/1000\n",
      "Epoch 637/1000\n",
      "Epoch 638/1000\n",
      "Epoch 639/1000\n",
      "Epoch 640/1000\n",
      "Epoch 641/1000\n",
      "Epoch 642/1000\n",
      "Epoch 643/1000\n",
      "Epoch 644/1000\n",
      "Epoch 645/1000\n",
      "Epoch 646/1000\n",
      "Epoch 647/1000\n",
      "Epoch 648/1000\n",
      "Epoch 649/1000\n",
      "Epoch 650/1000\n",
      "Epoch 651/1000\n",
      "Epoch 652/1000\n",
      "Epoch 653/1000\n",
      "Epoch 654/1000\n",
      "Epoch 655/1000\n",
      "Epoch 656/1000\n",
      "Epoch 657/1000\n",
      "Epoch 658/1000\n",
      "Epoch 659/1000\n",
      "Epoch 660/1000\n",
      "Epoch 661/1000\n",
      "Epoch 662/1000\n",
      "Epoch 663/1000\n",
      "Epoch 664/1000\n",
      "Epoch 665/1000\n",
      "Epoch 666/1000\n",
      "Epoch 667/1000\n",
      "Epoch 668/1000\n",
      "Epoch 669/1000\n",
      "Epoch 670/1000\n",
      "Epoch 671/1000\n",
      "Epoch 672/1000\n",
      "Epoch 673/1000\n",
      "Epoch 674/1000\n",
      "Epoch 675/1000\n",
      "Epoch 676/1000\n",
      "Epoch 677/1000\n",
      "Epoch 678/1000\n",
      "Epoch 679/1000\n",
      "Epoch 680/1000\n",
      "Epoch 681/1000\n",
      "Epoch 682/1000\n",
      "Epoch 683/1000\n",
      "Epoch 684/1000\n",
      "Epoch 685/1000\n",
      "Epoch 686/1000\n",
      "Epoch 687/1000\n",
      "Epoch 688/1000\n",
      "Epoch 689/1000\n",
      "Epoch 690/1000\n",
      "Epoch 691/1000\n",
      "Epoch 692/1000\n",
      "Epoch 693/1000\n",
      "Epoch 694/1000\n",
      "Epoch 695/1000\n",
      "Epoch 696/1000\n",
      "Epoch 697/1000\n",
      "Epoch 698/1000\n",
      "Epoch 699/1000\n",
      "Epoch 700/1000\n",
      "Epoch 701/1000\n",
      "Epoch 702/1000\n",
      "Epoch 703/1000\n",
      "Epoch 704/1000\n",
      "Epoch 705/1000\n",
      "Epoch 706/1000\n",
      "Epoch 707/1000\n",
      "Epoch 708/1000\n",
      "Epoch 709/1000\n",
      "Epoch 710/1000\n",
      "Epoch 711/1000\n",
      "Epoch 712/1000\n",
      "Epoch 713/1000\n",
      "Epoch 714/1000\n",
      "Epoch 715/1000\n",
      "Epoch 716/1000\n",
      "Epoch 717/1000\n",
      "Epoch 718/1000\n",
      "Epoch 719/1000\n",
      "Epoch 720/1000\n",
      "Epoch 721/1000\n",
      "Epoch 722/1000\n",
      "Epoch 723/1000\n",
      "Epoch 724/1000\n",
      "Epoch 725/1000\n",
      "Epoch 726/1000\n",
      "Epoch 727/1000\n",
      "Epoch 728/1000\n",
      "Epoch 729/1000\n",
      "Epoch 730/1000\n",
      "Epoch 731/1000\n",
      "Epoch 732/1000\n",
      "Epoch 733/1000\n",
      "Epoch 734/1000\n",
      "Epoch 735/1000\n",
      "Epoch 736/1000\n",
      "Epoch 737/1000\n",
      "Epoch 738/1000\n",
      "Epoch 739/1000\n",
      "Epoch 740/1000\n",
      "Epoch 741/1000\n",
      "Epoch 742/1000\n",
      "Epoch 743/1000\n",
      "Epoch 744/1000\n",
      "Epoch 745/1000\n",
      "Epoch 746/1000\n",
      "Epoch 747/1000\n",
      "Epoch 748/1000\n",
      "Epoch 749/1000\n",
      "Epoch 750/1000\n",
      "Epoch 751/1000\n",
      "Epoch 752/1000\n",
      "Epoch 753/1000\n",
      "Epoch 754/1000\n",
      "Epoch 755/1000\n",
      "Epoch 756/1000\n",
      "Epoch 757/1000\n",
      "Epoch 758/1000\n",
      "Epoch 759/1000\n",
      "Epoch 760/1000\n",
      "Epoch 761/1000\n",
      "Epoch 762/1000\n",
      "Epoch 763/1000\n",
      "Epoch 764/1000\n",
      "Epoch 765/1000\n",
      "Epoch 766/1000\n",
      "Epoch 767/1000\n",
      "Epoch 768/1000\n",
      "Epoch 769/1000\n",
      "Epoch 770/1000\n",
      "Epoch 771/1000\n",
      "Epoch 772/1000\n",
      "Epoch 773/1000\n",
      "Epoch 774/1000\n",
      "Epoch 775/1000\n",
      "Epoch 776/1000\n",
      "Epoch 777/1000\n",
      "Epoch 778/1000\n",
      "Epoch 779/1000\n",
      "Epoch 780/1000\n",
      "Epoch 781/1000\n",
      "Epoch 782/1000\n",
      "Epoch 783/1000\n",
      "Epoch 784/1000\n",
      "Epoch 785/1000\n",
      "Epoch 786/1000\n",
      "Epoch 787/1000\n",
      "Epoch 788/1000\n",
      "Epoch 789/1000\n",
      "Epoch 790/1000\n",
      "Epoch 791/1000\n",
      "Epoch 792/1000\n",
      "Epoch 793/1000\n",
      "Epoch 794/1000\n",
      "Epoch 795/1000\n",
      "Epoch 796/1000\n",
      "Epoch 797/1000\n",
      "Epoch 798/1000\n",
      "Epoch 799/1000\n",
      "Epoch 800/1000\n",
      "Epoch 801/1000\n",
      "Epoch 802/1000\n",
      "Epoch 803/1000\n",
      "Epoch 804/1000\n",
      "Epoch 805/1000\n",
      "Epoch 806/1000\n",
      "Epoch 807/1000\n",
      "Epoch 808/1000\n",
      "Epoch 809/1000\n",
      "Epoch 810/1000\n",
      "Epoch 811/1000\n",
      "Epoch 812/1000\n",
      "Epoch 813/1000\n",
      "Epoch 814/1000\n",
      "Epoch 815/1000\n",
      "Epoch 816/1000\n",
      "Epoch 817/1000\n",
      "Epoch 818/1000\n",
      "Epoch 819/1000\n",
      "Epoch 820/1000\n",
      "Epoch 821/1000\n",
      "Epoch 822/1000\n",
      "Epoch 823/1000\n",
      "Epoch 824/1000\n",
      "Epoch 825/1000\n",
      "Epoch 826/1000\n",
      "Epoch 827/1000\n",
      "Epoch 828/1000\n",
      "Epoch 829/1000\n",
      "Epoch 830/1000\n",
      "Epoch 831/1000\n",
      "Epoch 832/1000\n",
      "Epoch 833/1000\n",
      "Epoch 834/1000\n",
      "Epoch 835/1000\n",
      "Epoch 836/1000\n",
      "Epoch 837/1000\n",
      "Epoch 838/1000\n",
      "Epoch 839/1000\n",
      "Epoch 840/1000\n",
      "Epoch 841/1000\n",
      "Epoch 842/1000\n",
      "Epoch 843/1000\n",
      "Epoch 844/1000\n",
      "Epoch 845/1000\n",
      "Epoch 846/1000\n",
      "Epoch 847/1000\n",
      "Epoch 848/1000\n",
      "Epoch 849/1000\n",
      "Epoch 850/1000\n",
      "Epoch 851/1000\n",
      "Epoch 852/1000\n",
      "Epoch 853/1000\n",
      "Epoch 854/1000\n",
      "Epoch 855/1000\n",
      "Epoch 856/1000\n",
      "Epoch 857/1000\n",
      "Epoch 858/1000\n",
      "Epoch 859/1000\n",
      "Epoch 860/1000\n",
      "Epoch 861/1000\n",
      "Epoch 862/1000\n",
      "Epoch 863/1000\n",
      "Epoch 864/1000\n",
      "Epoch 865/1000\n",
      "Epoch 866/1000\n",
      "Epoch 867/1000\n",
      "Epoch 868/1000\n",
      "Epoch 869/1000\n",
      "Epoch 870/1000\n",
      "Epoch 871/1000\n",
      "Epoch 872/1000\n",
      "Epoch 873/1000\n",
      "Epoch 874/1000\n",
      "Epoch 875/1000\n",
      "Epoch 876/1000\n",
      "Epoch 877/1000\n",
      "Epoch 878/1000\n",
      "Epoch 879/1000\n",
      "Epoch 880/1000\n",
      "Epoch 881/1000\n",
      "Epoch 882/1000\n",
      "Epoch 883/1000\n",
      "Epoch 884/1000\n",
      "Epoch 885/1000\n",
      "Epoch 886/1000\n",
      "Epoch 887/1000\n",
      "Epoch 888/1000\n",
      "Epoch 889/1000\n",
      "Epoch 890/1000\n",
      "Epoch 891/1000\n",
      "Epoch 892/1000\n",
      "Epoch 893/1000\n",
      "Epoch 894/1000\n",
      "Epoch 895/1000\n",
      "Epoch 896/1000\n",
      "Epoch 897/1000\n",
      "Epoch 898/1000\n",
      "Epoch 899/1000\n",
      "Epoch 900/1000\n",
      "Epoch 901/1000\n",
      "Epoch 902/1000\n",
      "Epoch 903/1000\n",
      "Epoch 904/1000\n",
      "Epoch 905/1000\n",
      "Epoch 906/1000\n",
      "Epoch 907/1000\n",
      "Epoch 908/1000\n",
      "Epoch 909/1000\n",
      "Epoch 910/1000\n",
      "Epoch 911/1000\n",
      "Epoch 912/1000\n",
      "Epoch 913/1000\n",
      "Epoch 914/1000\n",
      "Epoch 915/1000\n",
      "Epoch 916/1000\n",
      "Epoch 917/1000\n",
      "Epoch 918/1000\n",
      "Epoch 919/1000\n",
      "Epoch 920/1000\n",
      "Epoch 921/1000\n",
      "Epoch 922/1000\n",
      "Epoch 923/1000\n",
      "Epoch 924/1000\n",
      "Epoch 925/1000\n",
      "Epoch 926/1000\n",
      "Epoch 927/1000\n",
      "Epoch 928/1000\n",
      "Epoch 929/1000\n",
      "Epoch 930/1000\n",
      "Epoch 931/1000\n",
      "Epoch 932/1000\n",
      "Epoch 933/1000\n",
      "Epoch 934/1000\n",
      "Epoch 935/1000\n",
      "Epoch 936/1000\n",
      "Epoch 937/1000\n",
      "Epoch 938/1000\n",
      "Epoch 939/1000\n",
      "Epoch 940/1000\n",
      "Epoch 941/1000\n",
      "Epoch 942/1000\n",
      "Epoch 943/1000\n",
      "Epoch 944/1000\n",
      "Epoch 945/1000\n",
      "Epoch 946/1000\n",
      "Epoch 947/1000\n",
      "Epoch 948/1000\n",
      "Epoch 949/1000\n",
      "Epoch 950/1000\n",
      "Epoch 951/1000\n",
      "Epoch 952/1000\n",
      "Epoch 953/1000\n",
      "Epoch 954/1000\n",
      "Epoch 955/1000\n",
      "Epoch 956/1000\n",
      "Epoch 957/1000\n",
      "Epoch 958/1000\n",
      "Epoch 959/1000\n",
      "Epoch 960/1000\n",
      "Epoch 961/1000\n",
      "Epoch 962/1000\n",
      "Epoch 963/1000\n",
      "Epoch 964/1000\n",
      "Epoch 965/1000\n",
      "Epoch 966/1000\n",
      "Epoch 967/1000\n",
      "Epoch 968/1000\n",
      "Epoch 969/1000\n",
      "Epoch 970/1000\n",
      "Epoch 971/1000\n",
      "Epoch 972/1000\n",
      "Epoch 973/1000\n",
      "Epoch 974/1000\n",
      "Epoch 975/1000\n",
      "Epoch 976/1000\n",
      "Epoch 977/1000\n",
      "Epoch 978/1000\n",
      "Epoch 979/1000\n",
      "Epoch 980/1000\n",
      "Epoch 981/1000\n",
      "Epoch 982/1000\n",
      "Epoch 983/1000\n",
      "Epoch 984/1000\n",
      "Epoch 985/1000\n",
      "Epoch 986/1000\n",
      "Epoch 987/1000\n",
      "Epoch 988/1000\n",
      "Epoch 989/1000\n",
      "Epoch 990/1000\n",
      "Epoch 991/1000\n",
      "Epoch 992/1000\n",
      "Epoch 993/1000\n",
      "Epoch 994/1000\n",
      "Epoch 995/1000\n",
      "Epoch 996/1000\n",
      "Epoch 997/1000\n",
      "Epoch 998/1000\n",
      "Epoch 999/1000\n",
      "Epoch 1000/1000\n"
     ]
    }
   ],
   "source": [
    "epochs = 1000\n",
    "history = model.fit(X_train, Y_train, \n",
    "                    batch_size=n_patients_train, \n",
    "                    epochs=epochs, \n",
    "                    callbacks=callbacks,\n",
    "                    shuffle=False,\n",
    "                    verbose=-1)"
   ]
  },
  {
   "cell_type": "markdown",
   "metadata": {},
   "source": [
    "We can see how the loss changed with the number of epochs."
   ]
  },
  {
   "cell_type": "code",
   "execution_count": 13,
   "metadata": {
    "lines_to_next_cell": 2
   },
   "outputs": [
    {
     "data": {
      "text/plain": [
       "Text(0, 0.5, 'Loss [u.a.]')"
      ]
     },
     "execution_count": 13,
     "metadata": {},
     "output_type": "execute_result"
    },
    {
     "data": {
      "image/png": "[encoded data removed]",
      "text/plain": [
       "<Figure size 500x500 with 1 Axes>"
      ]
     },
     "metadata": {},
     "output_type": "display_data"
    }
   ],
   "source": [
    "fig, ax = plt.subplots(1, 1, figsize=[5, 5])\n",
    "plt.plot(history.history['loss'], label='train')\n",
    "ax.set_xlabel(\"No. epochs\")\n",
    "ax.set_ylabel(\"Loss [u.a.]\")"
   ]
  },
  {
   "cell_type": "markdown",
   "metadata": {},
   "source": [
    "During training, we saved the model with the lowest loss value (i.e., Early Stop).\n",
    "Now, we need to load it. Since we defined our own custom function,\n",
    "it is important to [use the `compile=False` parameter](https://github.com/keras-team/keras/issues/5916#issuecomment-592269254)."
   ]
  },
  {
   "cell_type": "code",
   "execution_count": 14,
   "metadata": {},
   "outputs": [],
   "source": [
    "model = load_model(PATH_MODELS/f'{example_file}.h5', compile=False)"
   ]
  },
  {
   "cell_type": "markdown",
   "metadata": {},
   "source": [
    "## Model predictions\n",
    "Finally, we can generate predictions using the DeepSurv model."
   ]
  },
  {
   "cell_type": "code",
   "execution_count": 15,
   "metadata": {},
   "outputs": [
    {
     "name": "stdout",
     "output_type": "stream",
     "text": [
      "\u001b[1m41/41\u001b[0m \u001b[32m━━━━━━━━━━━━━━━━━━━━\u001b[0m\u001b[37m\u001b[0m \u001b[1m0s\u001b[0m 1ms/step \n",
      "c-index of training dataset = 0.8656654530530387\n",
      "\u001b[1m11/11\u001b[0m \u001b[32m━━━━━━━━━━━━━━━━━━━━\u001b[0m\u001b[37m\u001b[0m \u001b[1m0s\u001b[0m 1ms/step \n",
      "c-index of testing dataset = 0.842765175772692\n"
     ]
    }
   ],
   "source": [
    "Y_pred_train = np.exp(-model.predict(X_train))\n",
    "c_index_train = utils.concordance_index(Y_train, Y_pred_train, E_train)\n",
    "print(f\"c-index of training dataset = {c_index_train}\")\n",
    "\n",
    "Y_pred_test = np.exp(-model.predict(X_test))\n",
    "c_index_test = utils.concordance_index(Y_test, Y_pred_test, E_test)\n",
    "print(f\"c-index of testing dataset = {c_index_test}\")"
   ]
  },
  {
   "cell_type": "markdown",
   "metadata": {},
   "source": [
    "We can see that these numbers are within the ballpark estimate of what is\n",
    "reported in the original paper for this dataset (0.86-0.87, Table 1, p. 6)."
   ]
  }
 ],
 "metadata": {
  "jupytext": {
   "formats": "ipynb,py:percent"
  },
  "kernelspec": {
   "display_name": "Python (venv1)",
   "language": "python",
   "name": "venv1"
  },
  "language_info": {
   "codemirror_mode": {
    "name": "ipython",
    "version": 3
   },
   "file_extension": ".py",
   "mimetype": "text/x-python",
   "name": "python",
   "nbconvert_exporter": "python",
   "pygments_lexer": "ipython3",
   "version": "3.9.6"
  }
 },
 "nbformat": 4,
 "nbformat_minor": 4
}
